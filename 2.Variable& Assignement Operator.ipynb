{
 "cells": [
  {
   "cell_type": "code",
   "execution_count": 1,
   "id": "f735151c-bbab-4602-8cb3-6ba0201667be",
   "metadata": {},
   "outputs": [],
   "source": [
    "num1=10\n",
    "num2=20\n",
    "add=num1+num2"
   ]
  },
  {
   "cell_type": "code",
   "execution_count": 3,
   "id": "54a65687-72e5-4766-a5b0-ad976b6f6f4b",
   "metadata": {},
   "outputs": [
    {
     "name": "stdout",
     "output_type": "stream",
     "text": [
      "Add 30\n"
     ]
    }
   ],
   "source": [
    "print(\"Add\",add)"
   ]
  },
  {
   "cell_type": "code",
   "execution_count": 4,
   "id": "8c0e6dae-703d-4702-b8ce-a82efcfbdb1c",
   "metadata": {},
   "outputs": [
    {
     "name": "stdout",
     "output_type": "stream",
     "text": [
      "Num1+ Num2: 30\n"
     ]
    }
   ],
   "source": [
    "print (\"Num1+ Num2:\",num1 + num2)"
   ]
  },
  {
   "cell_type": "code",
   "execution_count": 7,
   "id": "0de42e4e-250a-460e-b2ea-9e5736a85374",
   "metadata": {},
   "outputs": [
    {
     "name": "stdout",
     "output_type": "stream",
     "text": [
      "Substraction : -10\n"
     ]
    }
   ],
   "source": [
    "num1=10\n",
    "num2=20\n",
    "sub=num1-num2\n",
    "print (\"Substraction :\",sub)"
   ]
  },
  {
   "cell_type": "code",
   "execution_count": 8,
   "id": "091b2910-b49e-4f62-9586-b8e4518c368a",
   "metadata": {},
   "outputs": [
    {
     "name": "stdout",
     "output_type": "stream",
     "text": [
      "Name: Paddy Krishnan\n"
     ]
    }
   ],
   "source": [
    "firstName = \"Paddy\"\n",
    "lastName =\"Krishnan\"\n",
    "print (\"Name:\",firstName,lastName)"
   ]
  },
  {
   "cell_type": "code",
   "execution_count": 13,
   "id": "60d1efc2-eb1a-4bd7-8ff9-946ac42f7dbf",
   "metadata": {},
   "outputs": [
    {
     "name": "stdin",
     "output_type": "stream",
     "text": [
      "Enter the num1 30\n"
     ]
    }
   ],
   "source": [
    "num1=int(input(\"Enter the num1\"))"
   ]
  },
  {
   "cell_type": "code",
   "execution_count": 14,
   "id": "7bc1d3ba-28e5-4e2a-bfdf-a61ac2ef973f",
   "metadata": {},
   "outputs": [
    {
     "name": "stdin",
     "output_type": "stream",
     "text": [
      "Enter the num1 60\n"
     ]
    }
   ],
   "source": [
    "num2=int(input(\"Enter the num1\"))"
   ]
  },
  {
   "cell_type": "code",
   "execution_count": 15,
   "id": "e67a54a6-afa2-40c1-ae34-cab78b182a44",
   "metadata": {},
   "outputs": [],
   "source": [
    "add=num1+num2"
   ]
  },
  {
   "cell_type": "code",
   "execution_count": 16,
   "id": "71a8f882-cf79-4fdd-a0fe-b8048632414a",
   "metadata": {},
   "outputs": [
    {
     "name": "stdout",
     "output_type": "stream",
     "text": [
      "90\n"
     ]
    }
   ],
   "source": [
    "print (add)"
   ]
  },
  {
   "cell_type": "code",
   "execution_count": null,
   "id": "2db3ebaa-0264-44c4-915a-110054af7440",
   "metadata": {},
   "outputs": [],
   "source": []
  }
 ],
 "metadata": {
  "kernelspec": {
   "display_name": "Python 3 (ipykernel)",
   "language": "python",
   "name": "python3"
  },
  "language_info": {
   "codemirror_mode": {
    "name": "ipython",
    "version": 3
   },
   "file_extension": ".py",
   "mimetype": "text/x-python",
   "name": "python",
   "nbconvert_exporter": "python",
   "pygments_lexer": "ipython3",
   "version": "3.12.7"
  }
 },
 "nbformat": 4,
 "nbformat_minor": 5
}
