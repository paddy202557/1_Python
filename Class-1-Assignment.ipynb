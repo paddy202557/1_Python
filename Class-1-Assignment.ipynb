{
 "cells": [
  {
   "cell_type": "code",
   "execution_count": 5,
   "id": "05d51314-bccc-499e-a573-59a266f0e9bc",
   "metadata": {},
   "outputs": [],
   "source": [
    "#Create a Class and function and list out the items in the list"
   ]
  },
  {
   "cell_type": "code",
   "execution_count": 28,
   "id": "c61e440c-ff44-410f-a6df-12f1ff4befcd",
   "metadata": {},
   "outputs": [
    {
     "name": "stdout",
     "output_type": "stream",
     "text": [
      "Sub-fields in AI are:\n",
      "Machine Learning\n",
      "Neural Networks\n",
      "Vision\n",
      "Robotics\n",
      "Speech Processing\n",
      "Natural Language Processing\n"
     ]
    }
   ],
   "source": [
    "lists =[\"Sub-fields in AI are:\",\"Machine Learning\",\"Neural Networks\",\"Vision\",\"Robotics\",\"Speech Processing\",\"Natural Language Processing\"]\n",
    "for subl in lists:\n",
    "    print(subl)\n",
    "  "
   ]
  },
  {
   "cell_type": "code",
   "execution_count": 30,
   "id": "f883bc6e-a134-4d89-9cea-734ff485129e",
   "metadata": {},
   "outputs": [],
   "source": [
    "def Subfields():\n",
    "    lists =[\"Sub-fields in AI are:\",\"Machine Learning\",\"Neural Networks\",\"Vision\",\"Robotics\",\"Speech Processing\",\"Natural Language Processing\"]\n",
    "    for subl in lists:\n",
    "        print(subl)\n",
    "        "
   ]
  },
  {
   "cell_type": "code",
   "execution_count": 31,
   "id": "c5f6b0b9-1e3b-47ad-bae1-bbc2a6d439ca",
   "metadata": {},
   "outputs": [
    {
     "name": "stdout",
     "output_type": "stream",
     "text": [
      "Sub-fields in AI are:\n",
      "Machine Learning\n",
      "Neural Networks\n",
      "Vision\n",
      "Robotics\n",
      "Speech Processing\n",
      "Natural Language Processing\n"
     ]
    }
   ],
   "source": [
    "Subfields()"
   ]
  },
  {
   "cell_type": "code",
   "execution_count": 32,
   "id": "79b775a8-5bbc-446a-ac1f-26b25b362d4c",
   "metadata": {},
   "outputs": [],
   "source": [
    "class SubfieldsInAI():\n",
    "    def Subfields():\n",
    "        lists =[\"Sub-fields in AI are:\",\"Machine Learning\",\"Neural Networks\",\"Vision\",\"Robotics\",\"Speech Processing\",\"Natural Language Processing\"]\n",
    "        for subl in lists:\n",
    "            print(subl)\n",
    "    "
   ]
  },
  {
   "cell_type": "code",
   "execution_count": 33,
   "id": "69be7ef9-34f6-44de-a440-048eebfcf2c5",
   "metadata": {},
   "outputs": [
    {
     "name": "stdout",
     "output_type": "stream",
     "text": [
      "Sub-fields in AI are:\n",
      "Machine Learning\n",
      "Neural Networks\n",
      "Vision\n",
      "Robotics\n",
      "Speech Processing\n",
      "Natural Language Processing\n"
     ]
    }
   ],
   "source": [
    "SubfieldsInAI.Subfields()"
   ]
  },
  {
   "cell_type": "code",
   "execution_count": null,
   "id": "f6b7a947-24db-4941-aff0-e222a6fef681",
   "metadata": {},
   "outputs": [],
   "source": [
    "#Crreate a function that checks whether the given number is Odd or Even"
   ]
  },
  {
   "cell_type": "code",
   "execution_count": 38,
   "id": "edbbda4f-9722-4b56-9e42-cd91d7d969b4",
   "metadata": {},
   "outputs": [],
   "source": [
    "def OddEven():\n",
    "    oddeven=int(input(\"Enter a number :\"))\n",
    "    if ((oddeven%2)==0):\n",
    "        print(oddeven,\"is Even Number\")\n",
    "        message1='Even Number'\n",
    "    else:\n",
    "        print(oddeven,\"is Odd Number\")\n",
    "        message1='Odd Number'\n",
    "        return message1"
   ]
  },
  {
   "cell_type": "code",
   "execution_count": 39,
   "id": "9bea9700-5448-4139-aed4-364e0f25141f",
   "metadata": {},
   "outputs": [
    {
     "name": "stdin",
     "output_type": "stream",
     "text": [
      "Enter a number : 20\n"
     ]
    },
    {
     "name": "stdout",
     "output_type": "stream",
     "text": [
      "20 is Even Number\n"
     ]
    }
   ],
   "source": [
    "oddEven()"
   ]
  },
  {
   "cell_type": "code",
   "execution_count": 40,
   "id": "157ada17-4b18-47d8-b1d6-652a3bb0d2aa",
   "metadata": {},
   "outputs": [],
   "source": [
    "class OddEven():\n",
    "    def OddEven():\n",
    "        oddeven=int(input(\"Enter a number :\"))\n",
    "        if ((oddeven%2)==0):\n",
    "            print(oddeven,\"is Even Number\")\n",
    "            message1='Even Number'\n",
    "        else:\n",
    "            print(oddeven,\"is Odd Number\")\n",
    "            message1='Odd Number'\n",
    "            return message1"
   ]
  },
  {
   "cell_type": "code",
   "execution_count": 42,
   "id": "afc3740a-3fc7-48e7-ba8c-9d0eb18ebf1f",
   "metadata": {},
   "outputs": [
    {
     "name": "stdin",
     "output_type": "stream",
     "text": [
      "Enter a number : 31\n"
     ]
    },
    {
     "name": "stdout",
     "output_type": "stream",
     "text": [
      "31 is Odd Number\n"
     ]
    },
    {
     "data": {
      "text/plain": [
       "'Odd Number'"
      ]
     },
     "execution_count": 42,
     "metadata": {},
     "output_type": "execute_result"
    }
   ],
   "source": [
    "OddEven.OddEven()"
   ]
  },
  {
   "cell_type": "code",
   "execution_count": 43,
   "id": "b3b798af-06db-482a-bdaf-69e745c32af2",
   "metadata": {},
   "outputs": [],
   "source": [
    "# Create a function that tells elegibility of marriage for male and female according to their age limit like 21 for male and 18 for female"
   ]
  },
  {
   "cell_type": "code",
   "execution_count": 51,
   "id": "e2788839-75f2-436c-97a8-8d66033171ad",
   "metadata": {},
   "outputs": [
    {
     "name": "stdin",
     "output_type": "stream",
     "text": [
      "Your Gender: Female\n",
      "Your Age: 17\n"
     ]
    },
    {
     "name": "stdout",
     "output_type": "stream",
     "text": [
      "NOT ELIGIBLE\n"
     ]
    }
   ],
   "source": [
    "Gender=(input(\"Your Gender:\"))\n",
    "Age=int(input(\"Your Age:\"))\n",
    "if (Gender=='Male' and Age<21):\n",
    "    print(\"NOT ELIGIBLE\")\n",
    "elif(Gender=='Female' and Age<18):\n",
    "     print(\"NOT ELIGIBLE\")\n",
    "elif(Gender=='Male' and Age>=21):\n",
    "    print(\"ELIGIBLE\")\n",
    "elif(Gender=='Female' and Age>=18):\n",
    "    print(\"ELIGIBLE\")\n",
    "else:    \n",
    "    print (\"NOT A VALID ENTRY\")"
   ]
  },
  {
   "cell_type": "code",
   "execution_count": 53,
   "id": "412694b7-2e05-4d3e-b9d3-6d7bf2991799",
   "metadata": {},
   "outputs": [],
   "source": [
    "def Elegible():\n",
    "    Gender=(input(\"Your Gender:\"))\n",
    "    Age=int(input(\"Your Age:\"))\n",
    "    if (Gender=='Male' and Age<21):\n",
    "        print(\"NOT ELIGIBLE\")\n",
    "    elif(Gender=='Female' and Age<18):\n",
    "         print(\"NOT ELIGIBLE\")\n",
    "    elif(Gender=='Male' and Age>=21):\n",
    "        print(\"ELIGIBLE\")\n",
    "    elif(Gender=='Female' and Age>=18):\n",
    "        print(\"ELIGIBLE\")\n",
    "    else:    \n",
    "        print (\"NOT A VALID ENTRY\")\n",
    "    \n"
   ]
  },
  {
   "cell_type": "code",
   "execution_count": 62,
   "id": "a4f18897-9bc6-4a9c-a611-06c0d4185b85",
   "metadata": {},
   "outputs": [
    {
     "name": "stdin",
     "output_type": "stream",
     "text": [
      "Your Gender: Male\n",
      "Your Age: 23\n"
     ]
    },
    {
     "name": "stdout",
     "output_type": "stream",
     "text": [
      "ELIGIBLE\n"
     ]
    }
   ],
   "source": [
    "Elegible()"
   ]
  },
  {
   "cell_type": "code",
   "execution_count": null,
   "id": "12a1f5a7-f532-48d4-828a-c115a29984b3",
   "metadata": {},
   "outputs": [],
   "source": [
    "class EligibilityForMarriage():\n",
    "    def Elegible():\n",
    "        Gender=(input(\"Your Gender:\"))\n",
    "        Age=int(input(\"Your Age:\"))\n",
    "        if (Gender=='Male' and Age<21):\n",
    "            print(\"NOT ELIGIBLE\")\n",
    "        elif(Gender=='Female' and Age<18):\n",
    "             print(\"NOT ELIGIBLE\")\n",
    "        elif(Gender=='Male' and Age>=21):\n",
    "            print(\"ELIGIBLE\")\n",
    "        elif(Gender=='Female' and Age>=18):\n",
    "            print(\"ELIGIBLE\")\n",
    "        else:    \n",
    "            print (\"NOT A VALID ENTRY\")\n",
    "    "
   ]
  },
  {
   "cell_type": "code",
   "execution_count": 63,
   "id": "c3d4796a-46cd-4a2d-b04f-63069fd811a8",
   "metadata": {},
   "outputs": [
    {
     "name": "stdin",
     "output_type": "stream",
     "text": [
      "Your Gender: Female\n",
      "Your Age: 19\n"
     ]
    },
    {
     "name": "stdout",
     "output_type": "stream",
     "text": [
      "ELIGIBLE\n"
     ]
    }
   ],
   "source": [
    "EligibilityForMarriage.Elegible()        "
   ]
  },
  {
   "cell_type": "code",
   "execution_count": 71,
   "id": "c72aa64f-e7c2-42b2-a7bc-cf26d636c6dc",
   "metadata": {},
   "outputs": [
    {
     "name": "stdin",
     "output_type": "stream",
     "text": [
      "Subject1= 98\n",
      "Subject2= 87\n",
      "Subject3= 95\n",
      "Subject4= 95\n",
      "Subject5= 93\n"
     ]
    },
    {
     "name": "stdout",
     "output_type": "stream",
     "text": [
      "Total  :  468\n",
      "Percentage : 93.60000000000001\n"
     ]
    }
   ],
   "source": [
    "sub1=int(input(\"Subject1=\"))\n",
    "sub2=int(input(\"Subject2=\"))\n",
    "sub3=int(input(\"Subject3=\"))\n",
    "sub4=int(input(\"Subject4=\"))\n",
    "sub5=int(input(\"Subject5=\"))\n",
    "Total=(sub1 + sub2 + sub3 + sub4 + sub5)\n",
    "Persentage=(Total/500)*100\n",
    "print(\"Total  : \",Total)\n",
    "print(\"Percentage :\",Persentage)\n"
   ]
  },
  {
   "cell_type": "code",
   "execution_count": 84,
   "id": "ecc21db8-ac4f-4ee1-b2e8-9cf70392edf3",
   "metadata": {},
   "outputs": [],
   "source": [
    "def percentage():\n",
    "    sub1=int(input(\"Subject1=\"))\n",
    "    sub2=int(input(\"Subject2=\"))\n",
    "    sub3=int(input(\"Subject3=\"))\n",
    "    sub4=int(input(\"Subject4=\"))\n",
    "    sub5=int(input(\"Subject5=\"))\n",
    "    Total=(sub1 + sub2 + sub3 + sub4 + sub5)\n",
    "    Persentage=(Total/500)*100\n",
    "    print(\"Total  : \",Total)\n",
    "    print(\"Percentage :\",Persentage)\n",
    "       \n"
   ]
  },
  {
   "cell_type": "code",
   "execution_count": 86,
   "id": "0a3a703e-bb3b-4de3-8072-cf49ff47a2ce",
   "metadata": {},
   "outputs": [
    {
     "name": "stdin",
     "output_type": "stream",
     "text": [
      "Subject1= 100\n",
      "Subject2= 100\n",
      "Subject3= 100\n",
      "Subject4= 100\n",
      "Subject5= 84\n"
     ]
    },
    {
     "name": "stdout",
     "output_type": "stream",
     "text": [
      "Total  :  484\n",
      "Percentage : 96.8\n"
     ]
    },
    {
     "data": {
      "text/plain": [
       "('Total', 484)"
      ]
     },
     "execution_count": 86,
     "metadata": {},
     "output_type": "execute_result"
    }
   ],
   "source": [
    "percentage()"
   ]
  },
  {
   "cell_type": "code",
   "execution_count": 88,
   "id": "100f8484-dd4e-42e4-a567-2aa2c4191eda",
   "metadata": {},
   "outputs": [],
   "source": [
    "class FindPercent():\n",
    "    def percentage():\n",
    "        sub1=int(input(\"Subject1=\"))\n",
    "        sub2=int(input(\"Subject2=\"))\n",
    "        sub3=int(input(\"Subject3=\"))\n",
    "        sub4=int(input(\"Subject4=\"))\n",
    "        sub5=int(input(\"Subject5=\"))\n",
    "        Total=(sub1 + sub2 + sub3 + sub4 + sub5)\n",
    "        Persentage=(Total/500)*100\n",
    "        print(\"Total  : \",Total)\n",
    "        print(\"Percentage :\",Persentage)\n",
    "\n"
   ]
  },
  {
   "cell_type": "code",
   "execution_count": 89,
   "id": "7e1139ea-baa7-41cd-be05-1b7ce5663515",
   "metadata": {},
   "outputs": [
    {
     "name": "stdin",
     "output_type": "stream",
     "text": [
      "Subject1= 99\n",
      "Subject2= 100\n",
      "Subject3= 100\n",
      "Subject4= 98\n",
      "Subject5= 90\n"
     ]
    },
    {
     "name": "stdout",
     "output_type": "stream",
     "text": [
      "Total  :  487\n",
      "Percentage : 97.39999999999999\n"
     ]
    }
   ],
   "source": [
    "FindPercent.percentage()"
   ]
  },
  {
   "cell_type": "code",
   "execution_count": null,
   "id": "24acc181-ed58-44d4-acc3-45f1efbaaa69",
   "metadata": {},
   "outputs": [],
   "source": [
    "#print area and perimeter of triangle using class and functions"
   ]
  },
  {
   "cell_type": "code",
   "execution_count": 99,
   "id": "9fd1f9e6-3427-4595-a1cb-3e7b069cead1",
   "metadata": {},
   "outputs": [
    {
     "name": "stdin",
     "output_type": "stream",
     "text": [
      "Height  : 32\n",
      "Breadth: 34\n"
     ]
    },
    {
     "name": "stdout",
     "output_type": "stream",
     "text": [
      "Area formula     :(Height * Breadth)/2\n",
      "Area of Trianlge : 544.0\n"
     ]
    },
    {
     "name": "stdin",
     "output_type": "stream",
     "text": [
      "Height1: 2\n",
      "Height2: 4\n",
      "Breadth: 4\n"
     ]
    },
    {
     "name": "stdout",
     "output_type": "stream",
     "text": [
      "Perimeter formula:Height1+Height2+Breadth\n",
      "Perimeter of Triangle: 10\n"
     ]
    }
   ],
   "source": [
    "height=int(input(\"Height  :\"))\n",
    "breadth=int(input(\"Breadth:\"))\n",
    "print(\"Area formula     :(Height * Breadth)/2\")\n",
    "area = (height * breadth)/2\n",
    "print (\"Area of Trianlge :\",area)\n",
    "height1=int(input(\"Height1:\"))\n",
    "height2=int(input(\"Height2:\"))\n",
    "breadth=int(input(\"Breadth:\"))\n",
    "perimeter= height1 + height2 + breadth\n",
    "print(\"Perimeter formula:Height1+Height2+Breadth\")\n",
    "print(\"Perimeter of Triangle:\",perimeter)\n",
    "\n",
    "\n",
    "            \n",
    "            \n",
    "            \n",
    "            \n",
    "            \n",
    "            \n",
    "            \n",
    "            \n",
    "\n",
    "\n",
    "            \n",
    "            \n",
    "           "
   ]
  },
  {
   "cell_type": "code",
   "execution_count": 100,
   "id": "ae8b663b-ab0e-424c-b3d0-d16ca74d7890",
   "metadata": {},
   "outputs": [],
   "source": [
    "def triangle():\n",
    "    height=int(input(\"Height  :\"))\n",
    "    breadth=int(input(\"Breadth:\"))\n",
    "    print(\"Area formula     :(Height * Breadth)/2\")\n",
    "    area = (height * breadth)/2\n",
    "    print (\"Area of Trianlge :\",area)\n",
    "    height1=int(input(\"Height1:\"))\n",
    "    height2=int(input(\"Height2:\"))\n",
    "    breadth=int(input(\"Breadth:\"))\n",
    "    perimeter= height1 + height2 + breadth\n",
    "    print(\"Perimeter formula:Height1+Height2+Breadth\")\n",
    "    print(\"Perimeter of Triangle:\",perimeter)\n"
   ]
  },
  {
   "cell_type": "code",
   "execution_count": 101,
   "id": "637758cd-01cc-4718-86bb-38a01562d2fb",
   "metadata": {},
   "outputs": [
    {
     "name": "stdin",
     "output_type": "stream",
     "text": [
      "Height  : 34\n",
      "Breadth: 32\n"
     ]
    },
    {
     "name": "stdout",
     "output_type": "stream",
     "text": [
      "Area formula     :(Height * Breadth)/2\n",
      "Area of Trianlge : 544.0\n"
     ]
    },
    {
     "name": "stdin",
     "output_type": "stream",
     "text": [
      "Height1: 2\n",
      "Height2: 4\n",
      "Breadth: 4\n"
     ]
    },
    {
     "name": "stdout",
     "output_type": "stream",
     "text": [
      "Perimeter formula:Height1+Height2+Breadth\n",
      "Perimeter of Triangle: 10\n"
     ]
    }
   ],
   "source": [
    "triangle()"
   ]
  },
  {
   "cell_type": "code",
   "execution_count": 1,
   "id": "43e4f59b-0032-4930-a9f4-24826f9e2ae3",
   "metadata": {},
   "outputs": [],
   "source": [
    "class triangle():\n",
    "    def triangle():\n",
    "        height=int(input(\"Height  :\"))\n",
    "        breadth=int(input(\"Breadth:\"))\n",
    "        print(\"Area formula     :(Height * Breadth)/2\")\n",
    "        area = (height * breadth)/2\n",
    "        print (\"Area of Trianlge :\",area)\n",
    "        height1=int(input(\"Height1:\"))\n",
    "        height2=int(input(\"Height2:\"))\n",
    "        breadth=int(input(\"Breadth:\"))\n",
    "        perimeter= height1 + height2 + breadth\n",
    "        print(\"Perimeter formula:Height1+Height2+Breadth\")\n",
    "        print(\"Perimeter of Triangle:\",perimeter)\n",
    "    "
   ]
  },
  {
   "cell_type": "code",
   "execution_count": 103,
   "id": "1971512e-c2f8-4261-8547-c3b55a48585f",
   "metadata": {},
   "outputs": [
    {
     "name": "stdin",
     "output_type": "stream",
     "text": [
      "Height  : 32\n",
      "Breadth: 34\n"
     ]
    },
    {
     "name": "stdout",
     "output_type": "stream",
     "text": [
      "Area formula     :(Height * Breadth)/2\n",
      "Area of Trianlge : 544.0\n"
     ]
    },
    {
     "name": "stdin",
     "output_type": "stream",
     "text": [
      "Height1: 2\n",
      "Height2: 4\n",
      "Breadth: 4\n"
     ]
    },
    {
     "name": "stdout",
     "output_type": "stream",
     "text": [
      "Perimeter formula:Height1+Height2+Breadth\n",
      "Perimeter of Triangle: 10\n"
     ]
    }
   ],
   "source": [
    "triangle.triangle()"
   ]
  },
  {
   "cell_type": "code",
   "execution_count": null,
   "id": "2c48ba2e-1545-4fb1-92ce-9af0c37ca323",
   "metadata": {},
   "outputs": [],
   "source": []
  }
 ],
 "metadata": {
  "kernelspec": {
   "display_name": "Python 3 (ipykernel)",
   "language": "python",
   "name": "python3"
  },
  "language_info": {
   "codemirror_mode": {
    "name": "ipython",
    "version": 3
   },
   "file_extension": ".py",
   "mimetype": "text/x-python",
   "name": "python",
   "nbconvert_exporter": "python",
   "pygments_lexer": "ipython3",
   "version": "3.12.7"
  }
 },
 "nbformat": 4,
 "nbformat_minor": 5
}
