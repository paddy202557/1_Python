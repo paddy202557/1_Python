{
 "cells": [
  {
   "cell_type": "code",
   "execution_count": 25,
   "id": "5a11fe3f-a3df-46cc-9221-5594ae93649b",
   "metadata": {},
   "outputs": [
    {
     "name": "stdin",
     "output_type": "stream",
     "text": [
      "Enter the Age 45\n"
     ]
    },
    {
     "name": "stdout",
     "output_type": "stream",
     "text": [
      "Citizen\n"
     ]
    }
   ],
   "source": [
    "age=int(input(\"Enter the Age\"))\n",
    "message1=AgeCategory()"
   ]
  },
  {
   "cell_type": "code",
   "execution_count": 20,
   "id": "03e12b30-b10e-45d3-ae0c-e98286187fa1",
   "metadata": {},
   "outputs": [],
   "source": [
    "def AgeCategory():\n",
    "        if(age<18):\n",
    "            print(\"Children\")\n",
    "            message='Children'  \n",
    "        elif(age<35):\n",
    "            print(\"Adult\")\n",
    "            message='Adult'\n",
    "        elif(age<59):\n",
    "            print(\"Citizen\")\n",
    "            message='Citizen'\n",
    "        else:\n",
    "            print(\"Senior Citizen\")\n",
    "            message='Senior Citizen'\n",
    "        return message       "
   ]
  },
  {
   "cell_type": "code",
   "execution_count": 31,
   "id": "8c7cb315-8cd9-42cb-ba45-4bd3cb22e98c",
   "metadata": {},
   "outputs": [
    {
     "name": "stdin",
     "output_type": "stream",
     "text": [
      "Enter the number: 9\n"
     ]
    },
    {
     "name": "stdout",
     "output_type": "stream",
     "text": [
      "Odd Number\n"
     ]
    },
    {
     "data": {
      "text/plain": [
       "'Odd Number'"
      ]
     },
     "execution_count": 31,
     "metadata": {},
     "output_type": "execute_result"
    }
   ],
   "source": [
    "oddEven()"
   ]
  },
  {
   "cell_type": "code",
   "execution_count": 33,
   "id": "dc661c9b-d662-48dc-99d4-e542730947ea",
   "metadata": {},
   "outputs": [
    {
     "name": "stdout",
     "output_type": "stream",
     "text": [
      "The Given number is Odd\n"
     ]
    }
   ],
   "source": [
    "if (message1==\"Even Number\"):\n",
    "    print(\"The Given number is Even\")\n",
    "else:\n",
    "    print(\"The Given number is Odd\")"
   ]
  },
  {
   "cell_type": "code",
   "execution_count": 28,
   "id": "6b198e31-a2e5-4c03-8d1f-99a5e394f0cc",
   "metadata": {},
   "outputs": [],
   "source": [
    "def oddEven():\n",
    "    oddeven=int(input(\"Enter the number:\"))\n",
    "    if ((oddeven%2)==0):\n",
    "        print(\"Even Number\")\n",
    "        message1='Even Number'\n",
    "    else:\n",
    "        print(\"Odd Number\")\n",
    "        message1='Odd Number'\n",
    "        return message1\n",
    "\n",
    "    "
   ]
  },
  {
   "cell_type": "code",
   "execution_count": 38,
   "id": "8dcfb5a0-02b1-43ca-ae48-77b9b5248934",
   "metadata": {},
   "outputs": [],
   "source": [
    "#Body Mass Index\n",
    "def BMI(bmi):\n",
    "    if(bmi<18.5):\n",
    "        print (\"BMI Underweight\")\n",
    "        message2=\"BMI Underweight\"\n",
    "    elif(bmi<=24.9):\n",
    "        print (\"BMI Normal range\")\n",
    "        message2=\"BMI Normal range\"\n",
    "    elif(bmi<=29.9):\n",
    "        print(\"BMI Overweight\")\n",
    "        message2=\"BMI Overweight\"\n",
    "    else:\n",
    "        print(\"BMI Obese\")\n",
    "        message2=\"BMI Obese\"\n",
    "    return message2    \n",
    "    "
   ]
  },
  {
   "cell_type": "code",
   "execution_count": 39,
   "id": "04c1592f-b2ec-4e38-94be-be7dfc0f746e",
   "metadata": {},
   "outputs": [
    {
     "name": "stdout",
     "output_type": "stream",
     "text": [
      "BMI Normal range\n"
     ]
    },
    {
     "data": {
      "text/plain": [
       "'BMI Normal range'"
      ]
     },
     "execution_count": 39,
     "metadata": {},
     "output_type": "execute_result"
    }
   ],
   "source": [
    "BMI(20)"
   ]
  },
  {
   "cell_type": "code",
   "execution_count": 44,
   "id": "83dd0910-2c3a-40a1-8a3f-eadb29715d6c",
   "metadata": {},
   "outputs": [
    {
     "data": {
      "text/plain": [
       "9"
      ]
     },
     "execution_count": 44,
     "metadata": {},
     "output_type": "execute_result"
    }
   ],
   "source": [
    "#Addition\n",
    "addition(4,5)"
   ]
  },
  {
   "cell_type": "code",
   "execution_count": 43,
   "id": "bbe3ac92-e116-4575-b052-0ab692656b65",
   "metadata": {},
   "outputs": [],
   "source": [
    "def addition(num1,num2):\n",
    "    add=num1 + num2\n",
    "    return add\n"
   ]
  },
  {
   "cell_type": "code",
   "execution_count": 48,
   "id": "ca92d241-b5c6-4d0e-9e1f-74c45143e627",
   "metadata": {},
   "outputs": [
    {
     "data": {
      "text/plain": [
       "1"
      ]
     },
     "execution_count": 48,
     "metadata": {},
     "output_type": "execute_result"
    }
   ],
   "source": [
    "#Substract\n",
    "substraction(5,4)"
   ]
  },
  {
   "cell_type": "code",
   "execution_count": 47,
   "id": "e86d3189-f5b1-40c7-bd7b-548c1a22f6dc",
   "metadata": {},
   "outputs": [],
   "source": [
    "def substraction(num1,num2):\n",
    "    sub=num1-num2\n",
    "    return sub\n"
   ]
  },
  {
   "cell_type": "code",
   "execution_count": null,
   "id": "0bbbb5d8-2252-4965-8910-b3744bee93a6",
   "metadata": {},
   "outputs": [],
   "source": []
  },
  {
   "cell_type": "code",
   "execution_count": null,
   "id": "52d2e928-30e8-424d-a839-065ca8b64eac",
   "metadata": {},
   "outputs": [],
   "source": []
  }
 ],
 "metadata": {
  "kernelspec": {
   "display_name": "Python 3 (ipykernel)",
   "language": "python",
   "name": "python3"
  },
  "language_info": {
   "codemirror_mode": {
    "name": "ipython",
    "version": 3
   },
   "file_extension": ".py",
   "mimetype": "text/x-python",
   "name": "python",
   "nbconvert_exporter": "python",
   "pygments_lexer": "ipython3",
   "version": "3.12.7"
  }
 },
 "nbformat": 4,
 "nbformat_minor": 5
}
