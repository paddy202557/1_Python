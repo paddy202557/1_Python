{
 "cells": [
  {
   "cell_type": "code",
   "execution_count": 2,
   "id": "b51f57fe-6c5d-4c1b-b3ab-f1f04f333410",
   "metadata": {},
   "outputs": [
    {
     "name": "stdout",
     "output_type": "stream",
     "text": [
      "10 Correct\n"
     ]
    }
   ],
   "source": [
    "#print 'CORRECT' if i==10\n",
    "for i in range (1,20):\n",
    "    if (i==10):\n",
    "        print (i,\"Correct\")    "
   ]
  },
  {
   "cell_type": "code",
   "execution_count": 5,
   "id": "0e17cdf8-40b3-478c-8ac2-224a3c437310",
   "metadata": {},
   "outputs": [
    {
     "name": "stdin",
     "output_type": "stream",
     "text": [
      "Enter Password : HOPE@123\n"
     ]
    },
    {
     "name": "stdout",
     "output_type": "stream",
     "text": [
      "Your Password is Correct\n"
     ]
    }
   ],
   "source": [
    "password = 'HOPE@123'\n",
    "Password =input(\"Enter Password :\")\n",
    "if(Password==password):\n",
    "    print(\"Your Password is Correct\")\n",
    "else:\n",
    "    print(\"Your Passwrord is Invalid\")"
   ]
  },
  {
   "cell_type": "code",
   "execution_count": 8,
   "id": "5e1631e3-7cac-4c33-9076-5721d7c4cfb7",
   "metadata": {},
   "outputs": [
    {
     "name": "stdout",
     "output_type": "stream",
     "text": [
      "Adult\n",
      "Citizen\n",
      "Senior Citizen\n",
      "Adult\n",
      "Children\n"
     ]
    }
   ],
   "source": [
    "#Catagory the people by their age like children, adult, citizen and senior citizen..\n",
    "lists1=[23,45,67,34,17]\n",
    "for age in lists1:\n",
    "    if(age<18):\n",
    "        print(\"Children\")\n",
    "    elif(age<35):\n",
    "        print(\"Adult\")\n",
    "    elif(age<59):\n",
    "        print(\"Citizen\")\n",
    "    else:\n",
    "        print(\"Senior Citizen\")"
   ]
  },
  {
   "cell_type": "code",
   "execution_count": 12,
   "id": "1b44d81f-7cd0-46c5-b04a-dff8c5121708",
   "metadata": {},
   "outputs": [
    {
     "name": "stdin",
     "output_type": "stream",
     "text": [
      "Enter the number -5\n"
     ]
    },
    {
     "name": "stdout",
     "output_type": "stream",
     "text": [
      "Number entered is negative\n"
     ]
    }
   ],
   "source": [
    "#Find whether given number is positive or negative\n",
    "positive_number=int(input(\"Enter the number\"))\n",
    "if(positive_number>0):\n",
    "    print(\"Number entered is positive\")\n",
    "else:\n",
    "     print(\"Number entered is negative\")"
   ]
  },
  {
   "cell_type": "code",
   "execution_count": 15,
   "id": "a29ef1c8-39aa-4ad2-a589-7f006be94024",
   "metadata": {},
   "outputs": [
    {
     "name": "stdin",
     "output_type": "stream",
     "text": [
      "Enter the number 53\n"
     ]
    },
    {
     "name": "stdout",
     "output_type": "stream",
     "text": [
      "Number entered is not divisible by 5\n"
     ]
    }
   ],
   "source": [
    "#Find whether given number is divisible by 5\n",
    "divisible_number=int(input(\"Enter the number\"))\n",
    "if(divisible_number % 5 ==0):\n",
    "    print(\"Number entered is divisible by 5\")\n",
    "else:\n",
    "     print(\"Number entered is not divisible by 5\")"
   ]
  },
  {
   "cell_type": "code",
   "execution_count": null,
   "id": "78d35f6e-ff55-4bf0-bfe2-bb33ad57ca96",
   "metadata": {},
   "outputs": [],
   "source": []
  }
 ],
 "metadata": {
  "kernelspec": {
   "display_name": "Python 3 (ipykernel)",
   "language": "python",
   "name": "python3"
  },
  "language_info": {
   "codemirror_mode": {
    "name": "ipython",
    "version": 3
   },
   "file_extension": ".py",
   "mimetype": "text/x-python",
   "name": "python",
   "nbconvert_exporter": "python",
   "pygments_lexer": "ipython3",
   "version": "3.12.7"
  }
 },
 "nbformat": 4,
 "nbformat_minor": 5
}
