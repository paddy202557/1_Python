{
 "cells": [
  {
   "cell_type": "code",
   "execution_count": 1,
   "id": "75f29dfe-6e20-421a-9a32-8c1d7e9e7945",
   "metadata": {},
   "outputs": [],
   "source": [
    " def AgeCategory():\n",
    "        if(age<18):\n",
    "            print(\"Children\")\n",
    "            message='Children'  \n",
    "        elif(age<35):\n",
    "            print(\"Adult\")\n",
    "            message='Adult'\n",
    "        elif(age<59):\n",
    "            print(\"Citizen\")\n",
    "            message='Citizen'\n",
    "        else:\n",
    "            print(\"Senior Citizen\")\n",
    "            message='Senior Citizen'\n",
    "        return message       "
   ]
  },
  {
   "cell_type": "code",
   "execution_count": 2,
   "id": "f9eb1f30-f303-4b04-80a8-96e1c6b79588",
   "metadata": {},
   "outputs": [
    {
     "name": "stdin",
     "output_type": "stream",
     "text": [
      "Enter Age: 35\n"
     ]
    },
    {
     "name": "stdout",
     "output_type": "stream",
     "text": [
      "Citizen\n"
     ]
    }
   ],
   "source": [
    "age=int(input(\"Enter Age:\"))\n",
    "agecat=AgeCategory()"
   ]
  },
  {
   "cell_type": "code",
   "execution_count": 3,
   "id": "86a016c4-47c2-4edb-ae83-313683cc090c",
   "metadata": {},
   "outputs": [
    {
     "name": "stdout",
     "output_type": "stream",
     "text": [
      "Citizen\n"
     ]
    }
   ],
   "source": [
    "print(agecat)"
   ]
  },
  {
   "cell_type": "code",
   "execution_count": 7,
   "id": "682aae63-8125-455e-ac01-65a63d66d561",
   "metadata": {},
   "outputs": [],
   "source": [
    "def oddEven():\n",
    "    oddeven=int(input(\"Enter the number:\"))\n",
    "    if ((oddeven%2)==0):\n",
    "        print(\"Even Number\")\n",
    "        message1='Even Number'\n",
    "    else:\n",
    "        print(\"Odd Number\")\n",
    "        message1='Odd Number'\n",
    "        return message1"
   ]
  },
  {
   "cell_type": "code",
   "execution_count": 12,
   "id": "892dfbb6-e074-476c-9877-9c59e8dc1be9",
   "metadata": {},
   "outputs": [
    {
     "name": "stdin",
     "output_type": "stream",
     "text": [
      "Enter the number: 10\n"
     ]
    },
    {
     "name": "stdout",
     "output_type": "stream",
     "text": [
      "Even Number\n"
     ]
    }
   ],
   "source": [
    "message=oddEven()"
   ]
  },
  {
   "cell_type": "code",
   "execution_count": 13,
   "id": "492cdc8f-4b55-49c1-a8a3-d70568a174c2",
   "metadata": {},
   "outputs": [
    {
     "name": "stdout",
     "output_type": "stream",
     "text": [
      "The Given Number is Odd\n"
     ]
    }
   ],
   "source": [
    "if(message==\"Even Number\"):\n",
    "    print(\"The Given Number is Even\")\n",
    "else:\n",
    "    print (\"The Given Number is Odd\")"
   ]
  },
  {
   "cell_type": "code",
   "execution_count": 14,
   "id": "943ca1ad-543c-4ad8-9ac7-2840ee0b15a0",
   "metadata": {},
   "outputs": [],
   "source": [
    "#Body Mass Index\n",
    "def BMI():\n",
    "    bmi=int(input(Enter BM:\")\n",
    "    if(bmi<18.5):\n",
    "        print (\"BMI Underweight\")\n",
    "        message2=\"BMI Underweight\"\n",
    "    elif(bmi<=24.9):\n",
    "        print (\"BMI Normal range\")\n",
    "        message2=\"BMI Normal range\"\n",
    "    elif(bmi<=29.9):\n",
    "        print(\"BMI Overweight\")\n",
    "        message2=\"BMI Overweight\"\n",
    "    else:\n",
    "        print(\"BMI Obese\")\n",
    "        message2=\"BMI Obese\"\n",
    "    return message2    \n",
    "    "
   ]
  },
  {
   "cell_type": "code",
   "execution_count": 23,
   "id": "0e2ca134-8acb-4a6e-9deb-bbde3f5b6cb9",
   "metadata": {},
   "outputs": [],
   "source": [
    "def addition(num1, num2):\n",
    "    add=num1+num2\n",
    "    return add\n"
   ]
  },
  {
   "cell_type": "code",
   "execution_count": 24,
   "id": "37e25219-9a04-4603-a2a7-4e9b4dec0271",
   "metadata": {},
   "outputs": [
    {
     "data": {
      "text/plain": [
       "30"
      ]
     },
     "execution_count": 24,
     "metadata": {},
     "output_type": "execute_result"
    }
   ],
   "source": [
    "addition(10,20)"
   ]
  },
  {
   "cell_type": "code",
   "execution_count": 28,
   "id": "35212db1-9a4d-4117-926b-c793e77c1093",
   "metadata": {},
   "outputs": [],
   "source": [
    "def substraction(num1,num2):\n",
    "    sub=(num1-num2)\n",
    "    return sub\n"
   ]
  },
  {
   "cell_type": "code",
   "execution_count": 29,
   "id": "958838e5-49fe-436e-9211-47a98fd81809",
   "metadata": {},
   "outputs": [
    {
     "data": {
      "text/plain": [
       "10"
      ]
     },
     "execution_count": 29,
     "metadata": {},
     "output_type": "execute_result"
    }
   ],
   "source": [
    "substraction(30,20)"
   ]
  },
  {
   "cell_type": "code",
   "execution_count": 30,
   "id": "ab2af2d3-abc4-4383-b9f5-0633992f5122",
   "metadata": {},
   "outputs": [],
   "source": [
    "def multiplication(num1,num2):\n",
    "    mul=(num1*num2)\n",
    "    return mul\n"
   ]
  },
  {
   "cell_type": "code",
   "execution_count": 31,
   "id": "0680a3bd-b068-4f0c-9803-82d631bcf278",
   "metadata": {},
   "outputs": [
    {
     "data": {
      "text/plain": [
       "200"
      ]
     },
     "execution_count": 31,
     "metadata": {},
     "output_type": "execute_result"
    }
   ],
   "source": [
    "multiplication(10,20)"
   ]
  },
  {
   "cell_type": "code",
   "execution_count": 36,
   "id": "240dce7d-1028-4af6-b531-6b20838a22b5",
   "metadata": {},
   "outputs": [],
   "source": [
    "class multipleFunctions():\n",
    "    def oddEven():\n",
    "        oddeven=int(input(\"Enter the number:\"))\n",
    "        if ((oddeven%2)==0):\n",
    "            print(\"Even Number\")\n",
    "            message=\"Even Number\"\n",
    "        else:\n",
    "            print(\"Odd Number\")\n",
    "            message=\"Odd Number\"\n",
    "            return message\n",
    "   \n",
    "    def BMI():\n",
    "        bmi=int(input(\"Enter BM Index:\"))\n",
    "        if(bmi<18.5):\n",
    "              print (\"BMI Underweight\")\n",
    "              message2=\"BMI Underweight\"\n",
    "        elif(bmi<=24.9):\n",
    "            print (\"BMI Normal range\")\n",
    "            message2=\"BMI Normal range\"\n",
    "        elif(bmi<=29.9):\n",
    "            print(\"BMI Overweight\")\n",
    "            message2=\"BMI Overweight\"\n",
    "        else:\n",
    "            print(\"BMI Obese\")\n",
    "            message2=\"BMI Obese\"\n",
    "            return message2    \n",
    "    \n",
    "    "
   ]
  },
  {
   "cell_type": "code",
   "execution_count": 38,
   "id": "50166220-934d-4354-b3db-13db54c592a0",
   "metadata": {},
   "outputs": [
    {
     "name": "stdin",
     "output_type": "stream",
     "text": [
      "Enter the number: 22\n"
     ]
    },
    {
     "name": "stdout",
     "output_type": "stream",
     "text": [
      "Even Number\n"
     ]
    }
   ],
   "source": [
    "multipleFunctions.oddEven()"
   ]
  },
  {
   "cell_type": "code",
   "execution_count": null,
   "id": "7ee1550f-d28a-4159-b92c-9fc3ef114539",
   "metadata": {},
   "outputs": [],
   "source": [
    "multipleFunctions.()"
   ]
  }
 ],
 "metadata": {
  "kernelspec": {
   "display_name": "Python 3 (ipykernel)",
   "language": "python",
   "name": "python3"
  },
  "language_info": {
   "codemirror_mode": {
    "name": "ipython",
    "version": 3
   },
   "file_extension": ".py",
   "mimetype": "text/x-python",
   "name": "python",
   "nbconvert_exporter": "python",
   "pygments_lexer": "ipython3",
   "version": "3.12.7"
  }
 },
 "nbformat": 4,
 "nbformat_minor": 5
}
