{
 "cells": [
  {
   "cell_type": "code",
   "execution_count": 1,
   "id": "fe71fe05-5d9f-4b00-9e1f-ff868b07b44e",
   "metadata": {},
   "outputs": [
    {
     "name": "stdout",
     "output_type": "stream",
     "text": [
      "Welcome to Assignment-1\n"
     ]
    }
   ],
   "source": [
    "# Welcome to Assignment-1\n",
    "print(\"Welcome to Assignment-1\")"
   ]
  },
  {
   "cell_type": "code",
   "execution_count": 26,
   "id": "7fae102a-8026-4e9d-8acb-912e0430947d",
   "metadata": {},
   "outputs": [
    {
     "name": "stdout",
     "output_type": "stream",
     "text": [
      "*---Input Num1 & Num2---*\n"
     ]
    },
    {
     "name": "stdin",
     "output_type": "stream",
     "text": [
      "Enter the Num1: 40\n",
      "Enter the Num2: 20\n"
     ]
    },
    {
     "name": "stdout",
     "output_type": "stream",
     "text": [
      "*------Output-----------*\n",
      "Num1=: 40\n",
      "Num2=: 20\n",
      "Add =: 60\n",
      "*------End of Report-----*\n"
     ]
    }
   ],
   "source": [
    "## Accept Input, Add  and print the output\n",
    "print(\"*---Input Num1 & Num2---*\")\n",
    "num1=int(input(\"Enter the Num1:\"))\n",
    "num2=int(input(\"Enter the Num2:\"))\n",
    "print(\"*------Output-----------*\")\n",
    "print(\"Num1=:\",num1)\n",
    "print(\"Num2=:\",num2)\n",
    "print(\"Add =:\",num1 + num2)\n",
    "print(\"*------End of Report-----*\")"
   ]
  },
  {
   "cell_type": "code",
   "execution_count": 28,
   "id": "a7021c1b-c516-4aa9-9bda-792ae092d0fd",
   "metadata": {},
   "outputs": [
    {
     "name": "stdout",
     "output_type": "stream",
     "text": [
      "Body Mass Index -BMI Calculator\n",
      "-------------------------------\n"
     ]
    },
    {
     "name": "stdin",
     "output_type": "stream",
     "text": [
      "Enter the BMI: 26.8\n"
     ]
    },
    {
     "name": "stdout",
     "output_type": "stream",
     "text": [
      " \n",
      "BMI Overweight\n"
     ]
    }
   ],
   "source": [
    "#Body Mass Index\n",
    "print(\"Body Mass Index -BMI Calculator\")\n",
    "print(\"-------------------------------\")\n",
    "bmi=float(input(\"Enter the BMI:\"))\n",
    "print(\" \")\n",
    "if(bmi<18.5):\n",
    "    print (\"BMI Underweight\")\n",
    "elif(bmi<=24.9):\n",
    "    print (\"BMI Normal range\")\n",
    "elif(bmi<=29.9):\n",
    "    print(\"BMI Overweight\")\n",
    "else:\n",
    "    print(\"BMI Obese\")\n",
    "    "
   ]
  },
  {
   "cell_type": "code",
   "execution_count": null,
   "id": "be30765e-337d-488b-85bf-a32037d777ee",
   "metadata": {},
   "outputs": [],
   "source": []
  }
 ],
 "metadata": {
  "kernelspec": {
   "display_name": "Python 3 (ipykernel)",
   "language": "python",
   "name": "python3"
  },
  "language_info": {
   "codemirror_mode": {
    "name": "ipython",
    "version": 3
   },
   "file_extension": ".py",
   "mimetype": "text/x-python",
   "name": "python",
   "nbconvert_exporter": "python",
   "pygments_lexer": "ipython3",
   "version": "3.12.7"
  }
 },
 "nbformat": 4,
 "nbformat_minor": 5
}
