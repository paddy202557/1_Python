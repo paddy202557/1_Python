{
 "cells": [
  {
   "cell_type": "code",
   "execution_count": 1,
   "id": "a5fa3626-2073-4d38-960a-5e6b30514344",
   "metadata": {},
   "outputs": [
    {
     "name": "stdout",
     "output_type": "stream",
     "text": [
      "HOPE AI\n"
     ]
    }
   ],
   "source": [
    "#Print Statement\n",
    "print(\"HOPE AI\")"
   ]
  },
  {
   "cell_type": "code",
   "execution_count": 2,
   "id": "6c5013eb-ce6b-4e09-83c5-db7ab30a2a30",
   "metadata": {},
   "outputs": [
    {
     "name": "stdin",
     "output_type": "stream",
     "text": [
      "Enter Your Institution Name Hope AI\n"
     ]
    }
   ],
   "source": [
    "#Buy Input\n",
    "inst_name=input(\"Enter your institution name :\")"
   ]
  },
  {
   "cell_type": "code",
   "execution_count": 3,
   "id": "9f05773f-3e8e-467f-b6bf-d4f31ce9ffe3",
   "metadata": {},
   "outputs": [
    {
     "name": "stdin",
     "output_type": "stream",
     "text": [
      "Enter your name : Aravindan Krishnan\n",
      "Enter your age : 32\n",
      "Enter school name: Case Western Reserve\n",
      "Enter your degree: PHD\n"
     ]
    }
   ],
   "source": [
    "#Buy Inputs\n",
    "student_name=input(\"Enter your name :\")\n",
    "student_age=input(\"Enter your age :\")\n",
    "school_name:input(\"Enter school name:\")\n",
    "student_degree:input(\"Enter your degree:\")"
   ]
  },
  {
   "cell_type": "code",
   "execution_count": 41,
   "id": "5e5228ea-81ab-4de8-947b-d07e08e2333d",
   "metadata": {},
   "outputs": [
    {
     "name": "stdin",
     "output_type": "stream",
     "text": [
      "Enter the num1: 20\n",
      "Enter the num2: 45\n"
     ]
    },
    {
     "name": "stdout",
     "output_type": "stream",
     "text": [
      "Addition 65\n",
      "Substraction -25\n",
      "Multiplication 900\n",
      "Float Div 0.4444444444444444\n",
      "Floor division 0\n",
      "Modulo 20\n",
      "Power 35184372088832000000000000000000000000000000000000000000000\n"
     ]
    }
   ],
   "source": [
    "#Calculator\n",
    "num1=int(input(\"Enter the num1:\"))\n",
    "num2=int(input(\"Enter the num2:\"))\n",
    "#Additon\n",
    "add=num1+num2\n",
    "print(\"Add\",add)\n",
    "#Substraction\n",
    "sub=num1- num2\n",
    "print(\"Sub\",sub)\n",
    "#Multiplication\n",
    "mul=num1*num2\n",
    "print(\"Mul\",mul)\n",
    "#Division\n",
    "div=float(num1/num2)\n",
    "print (\"Float Div\",div)\n",
    "#Floor_division\n",
    "floor=num1 // num2\n",
    "print(\"Floor division\", floor)\n",
    "#Moudulo\n",
    "modulo=num1 % num2\n",
    "print(\"Modulo\",modulo)\n",
    "#Power\n",
    "power=int(num1 ** num2)\n",
    "print(\"Power\",power)"
   ]
  },
  {
   "cell_type": "code",
   "execution_count": null,
   "id": "2b54918b-f290-41d3-8826-e77f8e6db288",
   "metadata": {},
   "outputs": [],
   "source": []
  },
  {
   "cell_type": "code",
   "execution_count": 43,
   "id": "7f62e6b1-f76a-4366-9b9c-649697f0cde8",
   "metadata": {},
   "outputs": [
    {
     "name": "stdin",
     "output_type": "stream",
     "text": [
      "Enter the num1: 40\n",
      "Enter the num2: 50\n"
     ]
    },
    {
     "name": "stdout",
     "output_type": "stream",
     "text": [
      "A-Add, S- Substraction, M-Multiplication, D -Divsion, F-Floor, O-Moudulo, P-Power\n"
     ]
    },
    {
     "name": "stdin",
     "output_type": "stream",
     "text": [
      "Enter option: c\n"
     ]
    },
    {
     "name": "stdout",
     "output_type": "stream",
     "text": [
      "Not a valid option \n"
     ]
    }
   ],
   "source": [
    "#Calculator-Automation\n",
    "num1=int(input(\"Enter the num1:\"))\n",
    "num2=int(input(\"Enter the num2:\"))\n",
    "print(\"A-Add, S- Substraction, M-Multiplication, D -Divsion, F-Floor, O-Moudulo, P-Power\")\n",
    "option=input(\"Enter option:\")\n",
    "upper_option = option.upper()\n",
    "#Additon\n",
    "if(upper_option=='A'):\n",
    "    add=num1+num2\n",
    "    print(\"Addition\",add)\n",
    "elif(upper_option=='S'):\n",
    "    #Substraction\n",
    "    sub=num1- num2\n",
    "    print(\"Substraction\",sub)\n",
    "elif(upper_option=='M'):    \n",
    "    #Multiplication\n",
    "    mul=num1*num2\n",
    "    print(\"Multiplication\",mul)\n",
    "elif(upper_option=='D'):    \n",
    "    #Division\n",
    "    div=float(num1/num2)\n",
    "    print (\"Float Div\",div)\n",
    "elif(upper_option=='F'):       \n",
    "    #Floor_division\n",
    "    floor=num1 // num2\n",
    "    print(\"Floor Division\", floor)\n",
    "elif(upper_option=='O'):    \n",
    "    #Moudulo\n",
    "    modulo=num1 % num2\n",
    "    print(\"Modulo\",modulo)\n",
    "elif(upper_option=='P'):    \n",
    "    #Power\n",
    "    power=int(num1 ** num2)\n",
    "    print(\"Power\",power)\n",
    "else:\n",
    "    print(\"Not a valid option \")\n"
   ]
  },
  {
   "cell_type": "code",
   "execution_count": null,
   "id": "33850151-0a18-4710-bf9a-ee0642549df2",
   "metadata": {},
   "outputs": [],
   "source": []
  }
 ],
 "metadata": {
  "kernelspec": {
   "display_name": "Python 3 (ipykernel)",
   "language": "python",
   "name": "python3"
  },
  "language_info": {
   "codemirror_mode": {
    "name": "ipython",
    "version": 3
   },
   "file_extension": ".py",
   "mimetype": "text/x-python",
   "name": "python",
   "nbconvert_exporter": "python",
   "pygments_lexer": "ipython3",
   "version": "3.12.7"
  }
 },
 "nbformat": 4,
 "nbformat_minor": 5
}
