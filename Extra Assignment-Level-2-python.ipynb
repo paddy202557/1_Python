{
 "cells": [
  {
   "cell_type": "code",
   "execution_count": 3,
   "id": "c1d6e706-f7f9-4951-a480-a964461fe415",
   "metadata": {},
   "outputs": [
    {
     "name": "stdout",
     "output_type": "stream",
     "text": [
      "0\n",
      "1\n",
      "2\n",
      "3\n",
      "4\n",
      "5\n",
      "6\n",
      "7\n",
      "8\n",
      "9\n",
      "10\n",
      "11\n",
      "12\n",
      "13\n",
      "14\n",
      "15\n",
      "16\n",
      "17\n",
      "18\n",
      "19\n"
     ]
    }
   ],
   "source": [
    "#print 0 to 20 by using range\n",
    "for num in range (0,20):\n",
    "    print(num)\n"
   ]
  },
  {
   "cell_type": "code",
   "execution_count": null,
   "id": "d0997022-efef-4741-961c-3b8dd086979e",
   "metadata": {},
   "outputs": [],
   "source": []
  },
  {
   "cell_type": "code",
   "execution_count": 5,
   "id": "7ce6c528-0406-47e0-a723-54a274563959",
   "metadata": {},
   "outputs": [
    {
     "name": "stdout",
     "output_type": "stream",
     "text": [
      "10\n",
      "11\n",
      "12\n",
      "13\n",
      "14\n",
      "15\n",
      "16\n",
      "17\n",
      "18\n",
      "19\n"
     ]
    }
   ],
   "source": [
    "#print 10 to 20 by using range\n",
    "for num in range (10,20):\n",
    "    print(num)\n"
   ]
  },
  {
   "cell_type": "code",
   "execution_count": null,
   "id": "2b7b2c0a-f8b9-4c7c-9b5b-98714114bfb7",
   "metadata": {},
   "outputs": [],
   "source": []
  },
  {
   "cell_type": "code",
   "execution_count": 6,
   "id": "d3c04a62-80f2-4b6c-87f3-1fc844d5bcbe",
   "metadata": {},
   "outputs": [
    {
     "name": "stdout",
     "output_type": "stream",
     "text": [
      "1\n",
      "4\n",
      "7\n",
      "10\n",
      "13\n",
      "16\n",
      "19\n"
     ]
    }
   ],
   "source": [
    "#print 1 to 20 by using range step of  3\n",
    "for num in range (1,20,3):\n",
    "    print(num)\n"
   ]
  },
  {
   "cell_type": "code",
   "execution_count": null,
   "id": "527b5438-1095-4062-8ad0-440f04683a0e",
   "metadata": {},
   "outputs": [],
   "source": []
  },
  {
   "cell_type": "code",
   "execution_count": 7,
   "id": "4ea878ae-32f4-456e-a672-3ec4c49eeefa",
   "metadata": {},
   "outputs": [
    {
     "name": "stdout",
     "output_type": "stream",
     "text": [
      "20\n",
      "19\n",
      "18\n",
      "17\n",
      "16\n",
      "15\n",
      "14\n",
      "13\n",
      "12\n",
      "11\n",
      "10\n",
      "9\n",
      "8\n",
      "7\n",
      "6\n",
      "5\n",
      "4\n",
      "3\n",
      "2\n",
      "1\n"
     ]
    }
   ],
   "source": [
    "#print 1 to 20 by using range -reverse\n",
    "for num in range (20,0,-1):\n",
    "    print(num)\n"
   ]
  },
  {
   "cell_type": "code",
   "execution_count": 10,
   "id": "28b9e820-68ac-48e5-8926-04842e9c9014",
   "metadata": {},
   "outputs": [
    {
     "name": "stdout",
     "output_type": "stream",
     "text": [
      "Number of Items in  the list : 7\n"
     ]
    }
   ],
   "source": [
    "#Print number of items in the list by using 'len'\n",
    "lists=[10,20,14,55,43,87,76]\n",
    "print(\"Number of Items in  the list :\",len(lists))\n"
   ]
  },
  {
   "cell_type": "code",
   "execution_count": 12,
   "id": "f3b854e7-4e41-4041-95e5-c2a409aa72dc",
   "metadata": {},
   "outputs": [
    {
     "name": "stdout",
     "output_type": "stream",
     "text": [
      "Number of fruits : 3\n"
     ]
    }
   ],
   "source": [
    "fruits= (\"Apple\",\"Pear\",\"Orange\")\n",
    "print(\"Number of fruits :\",len(fruits))"
   ]
  },
  {
   "cell_type": "code",
   "execution_count": 38,
   "id": "2572ae1c-612f-47d8-bf4b-c515a34dd57b",
   "metadata": {},
   "outputs": [
    {
     "name": "stdout",
     "output_type": "stream",
     "text": [
      "A\n",
      "r\n",
      "t\n",
      "i\n",
      "f\n",
      "i\n",
      "c\n",
      "i\n",
      "a\n",
      "l\n",
      " \n",
      "I\n",
      "n\n",
      "t\n",
      "e\n",
      "l\n",
      "l\n",
      "i\n",
      "g\n",
      "e\n",
      "n\n",
      "c\n",
      "e\n"
     ]
    }
   ],
   "source": [
    "name_string= 'Artificial Intelligence'\n",
    "for char in name_string:\n",
    "    print(char)"
   ]
  },
  {
   "cell_type": "code",
   "execution_count": null,
   "id": "65ef473f-2f09-4ce8-af35-1f617f936423",
   "metadata": {},
   "outputs": [],
   "source": []
  },
  {
   "cell_type": "code",
   "execution_count": 19,
   "id": "8a323685-ac5e-42b0-b3a7-2e5773f90d79",
   "metadata": {},
   "outputs": [
    {
     "name": "stdin",
     "output_type": "stream",
     "text": [
      "-Your Name- Paddy\n",
      "-Your Age- 67\n",
      "-Your Profession- IT Professional\n"
     ]
    }
   ],
   "source": [
    "your_name=input(\"-Your Name-\")\n",
    "your_age=input(\"-Your Age-\")\n",
    "your_profession=input(\"-Your Profession-\")"
   ]
  },
  {
   "cell_type": "code",
   "execution_count": 21,
   "id": "2c49683b-2b22-472e-9eb3-7a39ced05653",
   "metadata": {},
   "outputs": [
    {
     "name": "stdout",
     "output_type": "stream",
     "text": [
      "(1, 'Welcome', 2, 'Hope')\n"
     ]
    }
   ],
   "source": [
    "tup=(1,'Welcome',2,'Hope')\n",
    "print(tup)"
   ]
  },
  {
   "cell_type": "code",
   "execution_count": 24,
   "id": "46be9660-0e48-417c-a7c2-e75aec80e0ca",
   "metadata": {},
   "outputs": [
    {
     "name": "stdout",
     "output_type": "stream",
     "text": [
      "(0, 1, 2, 3, 'python', 'HOPE')\n",
      "(0, 1, 2, 3) ('python', 'HOPE')\n"
     ]
    }
   ],
   "source": [
    "tup1=(0,1,2,3)\n",
    "tup2=('python','HOPE')\n",
    "tup3= tup1 + tup2\n",
    "print(tup3)\n",
    "print((tup1),(tup2))\n"
   ]
  },
  {
   "cell_type": "code",
   "execution_count": 43,
   "id": "e64ac9f6-37c4-4471-9fa6-d407f230f611",
   "metadata": {},
   "outputs": [
    {
     "name": "stdout",
     "output_type": "stream",
     "text": [
      "19 : is odd\n",
      "25 : is odd\n",
      "1 : is odd\n"
     ]
    }
   ],
   "source": [
    "#Print Odd Numbers in the list\n",
    "lists=[20,10,16,19,25,1,276,188]\n",
    "for odd in lists:\n",
    "    if ((odd %2)==1):\n",
    "          print(odd, ': is odd')\n",
    "  \n",
    "    \n",
    "    "
   ]
  },
  {
   "cell_type": "code",
   "execution_count": 42,
   "id": "6b5e5167-566a-4007-9252-d2eeb67023e1",
   "metadata": {},
   "outputs": [
    {
     "name": "stdout",
     "output_type": "stream",
     "text": [
      "20 : is even\n",
      "10 : is even\n",
      "16 : is even\n",
      "276 : is even\n",
      "188 : is even\n"
     ]
    }
   ],
   "source": [
    "#Print Even Numbers in the list\n",
    "lists=[20,10,16,19,25,1,276,188]\n",
    "for odd in lists:\n",
    "    if ((odd %2)==0):\n",
    "          print(odd, ': is even')\n",
    "  \n",
    "    \n",
    "    "
   ]
  },
  {
   "cell_type": "code",
   "execution_count": null,
   "id": "c1ab4574-a249-4170-a88c-ce0d37ae05ce",
   "metadata": {},
   "outputs": [],
   "source": []
  }
 ],
 "metadata": {
  "kernelspec": {
   "display_name": "Python 3 (ipykernel)",
   "language": "python",
   "name": "python3"
  },
  "language_info": {
   "codemirror_mode": {
    "name": "ipython",
    "version": 3
   },
   "file_extension": ".py",
   "mimetype": "text/x-python",
   "name": "python",
   "nbconvert_exporter": "python",
   "pygments_lexer": "ipython3",
   "version": "3.12.7"
  }
 },
 "nbformat": 4,
 "nbformat_minor": 5
}
