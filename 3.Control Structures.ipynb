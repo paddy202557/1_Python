{
 "cells": [
  {
   "cell_type": "code",
   "execution_count": 2,
   "id": "6cf50105-47f6-4346-a9b6-dbe67a2f379d",
   "metadata": {},
   "outputs": [
    {
     "name": "stdin",
     "output_type": "stream",
     "text": [
      "Enter the age: 18\n"
     ]
    },
    {
     "name": "stdout",
     "output_type": "stream",
     "text": [
      "Adult\n"
     ]
    }
   ],
   "source": [
    "age=int(input(\"Enter the age:\"))\n",
    "if(age==18):\n",
    "    print(\"Adult\")"
   ]
  },
  {
   "cell_type": "code",
   "execution_count": 28,
   "id": "7c29c173-d7ec-4eeb-b6b5-720ca71957fa",
   "metadata": {},
   "outputs": [
    {
     "name": "stdout",
     "output_type": "stream",
     "text": [
      "Adult\n"
     ]
    }
   ],
   "source": [
    "#if\n",
    "age=18\n",
    "if(age==18):\n",
    "    print(\"Adult\")"
   ]
  },
  {
   "cell_type": "code",
   "execution_count": 3,
   "id": "2a4d50d0-d17b-4fdf-be42-213ccc7d3a4f",
   "metadata": {},
   "outputs": [],
   "source": [
    "#if-else\n"
   ]
  },
  {
   "cell_type": "code",
   "execution_count": 8,
   "id": "b49e8a82-7f9a-4392-ab7c-2194f1409e75",
   "metadata": {},
   "outputs": [
    {
     "name": "stdin",
     "output_type": "stream",
     "text": [
      "Enter the age: 18\n"
     ]
    },
    {
     "name": "stdout",
     "output_type": "stream",
     "text": [
      "Adult\n"
     ]
    }
   ],
   "source": [
    "age=int(input(\"Enter the age:\"))\n",
    "if(age<18):\n",
    "    print(\"Children\")\n",
    "else:\n",
    "    print(\"Adult\")"
   ]
  },
  {
   "cell_type": "code",
   "execution_count": 9,
   "id": "e453965e-f5d5-4b78-9004-ed60a2afca31",
   "metadata": {},
   "outputs": [],
   "source": [
    "#if-elif  Single Input  Multiple conditions"
   ]
  },
  {
   "cell_type": "code",
   "execution_count": 14,
   "id": "17774103-1626-43fa-b5d2-1c7ace109c03",
   "metadata": {},
   "outputs": [
    {
     "name": "stdin",
     "output_type": "stream",
     "text": [
      "Enter the age: 60\n"
     ]
    },
    {
     "name": "stdout",
     "output_type": "stream",
     "text": [
      "Senior Citizen\n"
     ]
    }
   ],
   "source": [
    "age=int(input(\"Enter the age:\"))\n",
    "if(age<18):\n",
    "    print(\"Children\")\n",
    "elif(age<35):\n",
    "    print(\"Adult\")\n",
    "elif(age<59):\n",
    "    print(\"Citizen\")\n",
    "else:\n",
    "    print(\"Senior Citizen\")\n",
    "    \n",
    "    \n",
    "    \n"
   ]
  },
  {
   "cell_type": "markdown",
   "id": "036a3f71-e9da-4a61-8148-19eef895c1e5",
   "metadata": {},
   "source": [
    "#age<18--->Children\n",
    "#age<35--->Adult\n",
    "#age<59--->Citizen\n",
    "#age>59--->Senior Citizen"
   ]
  },
  {
   "cell_type": "code",
   "execution_count": 16,
   "id": "eecf3293-312c-4425-920f-75fbb2ab739a",
   "metadata": {},
   "outputs": [
    {
     "name": "stdin",
     "output_type": "stream",
     "text": [
      "Enter the age: 35\n"
     ]
    },
    {
     "name": "stdout",
     "output_type": "stream",
     "text": [
      "Citizen\n"
     ]
    }
   ],
   "source": [
    "#for  Loop\n",
    "\n"
   ]
  },
  {
   "cell_type": "code",
   "execution_count": 27,
   "id": "941866a4-8dd7-4770-be1d-605aa50c1ece",
   "metadata": {},
   "outputs": [],
   "source": [
    "#Multiple Inputs - One  set of Inputs\n",
    "lists=[23,45,67,34,89]"
   ]
  },
  {
   "cell_type": "code",
   "execution_count": null,
   "id": "ec1b9cf5-4131-4329-94ad-97964727c120",
   "metadata": {},
   "outputs": [],
   "source": [
    "#Set of Inputs - Set of conditions"
   ]
  },
  {
   "cell_type": "code",
   "execution_count": 21,
   "id": "7fadbc60-504b-45ed-ae51-5cef0b4bfa47",
   "metadata": {},
   "outputs": [
    {
     "name": "stdout",
     "output_type": "stream",
     "text": [
      "Adult\n",
      "Citizen\n",
      "Senior Citizen\n",
      "Adult\n",
      "Senior Citizen\n"
     ]
    }
   ],
   "source": [
    "for age in lists:\n",
    "    if(age<18):\n",
    "        print(\"Children\")\n",
    "    elif(age<35):\n",
    "        print(\"Adult\")\n",
    "    elif(age<59):\n",
    "        print(\"Citizen\")\n",
    "    else:\n",
    "        print(\"Senior Citizen\")\n",
    "    "
   ]
  },
  {
   "cell_type": "code",
   "execution_count": null,
   "id": "4745a17f-820c-49d1-927d-e5cfa7a6455e",
   "metadata": {},
   "outputs": [],
   "source": [
    "#Even number and Odd number  %- Moudulus operator in python is to get the reminder of the division"
   ]
  },
  {
   "cell_type": "code",
   "execution_count": 23,
   "id": "3c2578d9-dd9c-42ad-9011-1084e5c6c8d9",
   "metadata": {},
   "outputs": [
    {
     "name": "stdin",
     "output_type": "stream",
     "text": [
      "Enter the number: 10\n"
     ]
    },
    {
     "name": "stdout",
     "output_type": "stream",
     "text": [
      "Even Number\n"
     ]
    }
   ],
   "source": [
    "oddeven=int(input(\"Enter the number:\"))\n",
    "if ((oddeven%2)==0):\n",
    "    print(\"Even Number\")\n",
    "else:\n",
    "    print(\"Odd Number\")\n",
    "    "
   ]
  },
  {
   "cell_type": "code",
   "execution_count": null,
   "id": "95ed63d9-9bfe-4edd-813b-b8999bc7d5eb",
   "metadata": {},
   "outputs": [],
   "source": [
    "#Range- function can be called with one, two, or three arguments: range(START, STOP, STEP)\n"
   ]
  },
  {
   "cell_type": "code",
   "execution_count": 26,
   "id": "a17db442-daf9-453b-8caa-a7b4513e8ea3",
   "metadata": {},
   "outputs": [
    {
     "name": "stdout",
     "output_type": "stream",
     "text": [
      "0\n",
      "3\n",
      "6\n",
      "9\n"
     ]
    }
   ],
   "source": [
    "for num in range (0,10,3):\n",
    "    print (num)\n",
    "    "
   ]
  },
  {
   "cell_type": "code",
   "execution_count": null,
   "id": "510d697b-3853-47ca-8059-01e20c2ac61a",
   "metadata": {},
   "outputs": [],
   "source": []
  }
 ],
 "metadata": {
  "kernelspec": {
   "display_name": "Python 3 (ipykernel)",
   "language": "python",
   "name": "python3"
  },
  "language_info": {
   "codemirror_mode": {
    "name": "ipython",
    "version": 3
   },
   "file_extension": ".py",
   "mimetype": "text/x-python",
   "name": "python",
   "nbconvert_exporter": "python",
   "pygments_lexer": "ipython3",
   "version": "3.12.7"
  }
 },
 "nbformat": 4,
 "nbformat_minor": 5
}
